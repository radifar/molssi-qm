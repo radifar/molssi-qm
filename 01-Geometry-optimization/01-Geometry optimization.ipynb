{
 "cells": [
  {
   "cell_type": "markdown",
   "metadata": {},
   "source": [
    "## Basic optimization calculation protocol\n",
    "\n",
    "At room temperature, most molecules will be in their ground state (i.e., minimum energy state). In terms of molecular structure this means the state where the atoms are arranged such that the total (i.e., nuclear + electronic) energy is lowest. The structure that you get of your molecule from Avogadro has not been optimized using quantum mechanical equations based on the wave functions of all the electrons and is likely far from the ground state. This means that some of the bond distances and angles need to be adjusted before we can perform other quantum mechanical calculations on these molecules. To do this, we choose our basis set and calculate the energy of the initial molecule using the Hartree-Fock method. Then, the atom positions are adjusted to decrease the energy, and the calculation is performed again. To determine how to adjust the atom positions, one strategy is to look for the adjustment that will decrease the energy the most with a small change. This can be thought of like moving in the steepest descent direction on a free energy surface, as shown in the figure. To find the steepest descent direction, a gradient (derivative) of the energy is calculated, and the adjustment is made in the direction of the most negative gradient. Other more advanced optimization methods that converge more quickly and are more accurate include the conjugate gradient method and quasi-Newton methods like BFGS (which use approximations of the Hessian/matrix of second derivatives). This process is repeated until the energy has reached a minimum and the gradient is zero. Now you have an optimized geometry for your molecule!"
   ]
  },
  {
   "cell_type": "markdown",
   "metadata": {},
   "source": [
    "## Optimizing benzene\n",
    "\n",
    "To demonstrate a geometry optimization, let’s use the PsiAPI to create a benzene molecule. In this example, we have generated coordinates using Avogadro, but you could generate stating coordinates with any molecular visualization program.\n",
    "\n",
    "First, import the python packages you will use."
   ]
  },
  {
   "cell_type": "code",
   "execution_count": 1,
   "metadata": {},
   "outputs": [],
   "source": [
    "# import the python modules that we will use\n",
    "import psi4\n",
    "import numpy as np\n",
    "%matplotlib inline\n",
    "import matplotlib.pyplot as plt"
   ]
  },
  {
   "cell_type": "markdown",
   "metadata": {},
   "source": [
    "### Setting up the molecule\n",
    "\n",
    "First we will set up our molecule as an object in Psi4 using the function `psi4.geometry()`. Once we have the molecule built, we can use Psi4 to calculate different attributes of the molecule using the basis set that we specify. In this case we will use the Hartree-Fock method (SCF) and the cc-pVDZ basis set. We will calculate the energy of the molecule and print it to a file called ‘energy_initial’, since this is the initial structure of our molecule. It turns out that this command gives us more than just the molecule’s energy.\n",
    "\n",
    "We can also print the positions of all the atoms at any time using `molecule.print_out_in_angstrom()` and all of the interatomic distances using `molecule.print_distances()`. We will print these to a file called ‘geometry_initial’ as an example of Psi4’s functionality, but we don’t really need this information right now."
   ]
  },
  {
   "cell_type": "code",
   "execution_count": 2,
   "metadata": {},
   "outputs": [],
   "source": [
    "# set the amount of memory you will need\n",
    "psi4.set_memory('2 GB')\n",
    "\n",
    "# set the number of threads (processes) for Psi4 to use\n",
    "# (my HP-6300 PC could handle 4 threads)\n",
    "psi4.set_num_threads(4)\n",
    "\n",
    "# set the molecule name for your files and plots\n",
    "molecule_name = \"benzene\"\n",
    "\n",
    "# enter the charge, multiplicity, and starting coordinates of the atoms in your molecule\n",
    "benzene = psi4.geometry(\"\"\"\n",
    "0 1\n",
    "   C       -3.98116        3.81771        0.00000\n",
    "   C       -2.63351        3.75967        0.10838\n",
    "   C       -2.11978        2.80187       -0.29323\n",
    "   C       -2.68901        1.83558       -0.80805\n",
    "   C       -3.92704        1.83138       -0.93484\n",
    "   C       -4.58021        2.71451       -0.58263\n",
    "   H       -4.52562        4.63006        0.32966\n",
    "   H       -2.09025        4.53029        0.52795\n",
    "   H       -1.09209        2.75239       -0.21305\n",
    "   H       -2.13621        1.02769       -1.13476\n",
    "   H       -4.38300        1.01321       -1.36811\n",
    "   H       -5.60487        2.68217       -0.70124\n",
    "\"\"\")"
   ]
  },
  {
   "cell_type": "code",
   "execution_count": 3,
   "metadata": {},
   "outputs": [
    {
     "data": {
      "text/plain": [
       "-230.4778160948724"
      ]
     },
     "execution_count": 3,
     "metadata": {},
     "output_type": "execute_result"
    }
   ],
   "source": [
    "# calculate the initial energy of the molecule using the Hartree-Fock method\n",
    "# and the cc-pVDZ basis set; print this output to a file\n",
    "psi4.set_output_file(molecule_name + '_energy_initial.dat', False)\n",
    "psi4.energy('scf/cc-pVDZ')"
   ]
  },
  {
   "cell_type": "code",
   "execution_count": 4,
   "metadata": {},
   "outputs": [],
   "source": [
    "psi4.set_output_file(molecule_name + '_geometry_initial.dat', False)\n",
    "benzene.print_out_in_angstrom()\n",
    "benzene.print_distances()"
   ]
  },
  {
   "cell_type": "markdown",
   "metadata": {},
   "source": [
    "### Geometry optimization\n",
    "\n",
    "Now that we have the molecule setup, we will perform the geometry optimization. The `psi4.optimize()` function performs the optimization, and we need to tell it what method (SCF) and basis set (cc-pVDZ) to use and what molecule to optimize. As the optimization runs, information will be printed to the ‘geometry_optimization’ file at each step.\n",
    "\n",
    "**Note:** Although Psi4’s default settings should work fine for most reasonable starting geometries, you may need to modify the maximum number of SCF iterations and/or the maximum number of geometry optimization iterations. To modify the maximum number of SCF interations (e.g., to 500), we can do so with `psi4.set_module_options('scf', {'maxiter': 500})`. Similarly, to modify the maximum number of geometry optimization iterations (e.g., to 100), we can do so with `psi4.set_options({'geom_maxiter': 100})`.\n",
    "\n",
    "After the optimization is complete, we print the atomic coordinates and interatomic distances again, to the ‘geometry_final’ file."
   ]
  },
  {
   "cell_type": "code",
   "execution_count": 5,
   "metadata": {},
   "outputs": [
    {
     "name": "stdout",
     "output_type": "stream",
     "text": [
      "Optimizer: Optimization complete!\n"
     ]
    },
    {
     "data": {
      "text/plain": [
       "-230.7219256679512"
      ]
     },
     "execution_count": 5,
     "metadata": {},
     "output_type": "execute_result"
    }
   ],
   "source": [
    "# optimize the molecular geometry\n",
    "psi4.set_output_file(molecule_name + '_geometry_optimization.dat', False)\n",
    "psi4.optimize('scf/cc-pVDZ', molecule=benzene)"
   ]
  },
  {
   "cell_type": "code",
   "execution_count": 6,
   "metadata": {},
   "outputs": [],
   "source": [
    "# print the optimized atomic coordinates and interatomic distances\n",
    "psi4.set_output_file(molecule_name + '_geometry_final.dat', False)\n",
    "benzene.print_out_in_angstrom()\n",
    "benzene.print_distances()"
   ]
  },
  {
   "cell_type": "markdown",
   "metadata": {},
   "source": [
    "### Reading bond distances from the geometry optimization file\n",
    "\n",
    "Below is a function that will pull out the bond distances for any two atoms in the molecule from the geometry optimization output file. This way you can look at how the bond distances change during the optimization process. We won’t explain how the function works here, but you can see the information in the ‘geometry_optimization’ file in the lines that begin with R(a,b), where a and b are the numbers for the two atoms that form a bond."
   ]
  },
  {
   "cell_type": "code",
   "execution_count": 7,
   "metadata": {},
   "outputs": [],
   "source": [
    "# function to find the bond distance for two specific atoms in the optimization file\n",
    "def plot_R(a,b):\n",
    "    with open(molecule_name + '_geometry_optimization.dat') as f:\n",
    "        pair_notation = 'R(' + str(a) + ',' +str(b) + ')'\n",
    "        rows_with_R_pairs = [line.split() for line in f if line.find(pair_notation) > 1 and\n",
    "                             line.strip().split()[1].startswith(pair_notation)]\n",
    "        \n",
    "        bond_distances = []\n",
    "        bond_distances.append(float(rows_with_R_pairs[0][3]))\n",
    "        \n",
    "        for item in rows_with_R_pairs:\n",
    "            bond_distances.append(float(item[6]))\n",
    "        \n",
    "        return bond_distances"
   ]
  },
  {
   "cell_type": "markdown",
   "metadata": {},
   "source": [
    "### Plotting how bond distances change during optimization\n",
    "\n",
    "Using the function above, we will find the bond distances between two atoms at each step of the optimization and store them in the list bond_distances. We also need to find what the largest and smallest values of the bond distance are during optimization so that we know what range to use for plotting on the y-axis.\n",
    "\n",
    "Then, we will plot how that distance changes at each step of the optimization process. You should see it change from the initial value and then level out to the optimal bond distance based on the Hartree-Fock method and the cc-pVDZ basis set."
   ]
  },
  {
   "cell_type": "code",
   "execution_count": 8,
   "metadata": {},
   "outputs": [
    {
     "data": {
      "image/png": "[encoded data removed]",
      "text/plain": [
       "<Figure size 432x288 with 1 Axes>"
      ]
     },
     "metadata": {
      "needs_background": "light"
     },
     "output_type": "display_data"
    }
   ],
   "source": [
    "# find the bond distance for atoms C1 and C2\n",
    "bond_distances = plot_R(1, 2)\n",
    "# determine an appropriate range for plotting\n",
    "dist_range = max(bond_distances) - min(bond_distances)\n",
    "\n",
    "# plot the bond distances at each iteration of geometry optimization\n",
    "plt.scatter(np.arange(len(bond_distances)), bond_distances)\n",
    "plt.ylim(top = max(bond_distances) + dist_range*0.15,\n",
    "         bottom = min(bond_distances) - dist_range*0.15)\n",
    "plt.xlabel(\"iteration\")\n",
    "plt.ylabel(\"distance (Angstrom)\")\n",
    "plt.title(molecule_name + \" C-c bond distance\")\n",
    "plt.show()"
   ]
  },
  {
   "cell_type": "markdown",
   "metadata": {},
   "source": [
    "### Reading energies from the geometry optimization file\n",
    "\n",
    "Below is a function that will extract the molecular energies from the geometry optimization output file. This way you can look at how the energy changes during the optimization process. In the ‘geometry_optimization’ file you can find this information on lines that begin with **Current energy**."
   ]
  },
  {
   "cell_type": "code",
   "execution_count": 9,
   "metadata": {},
   "outputs": [],
   "source": [
    "# function to find the energy in the optimization file\n",
    "def plot_energy():\n",
    "    with open(molecule_name + '_geometry_optimization.dat') as f:\n",
    "        # energy_string = 'Current energy'\n",
    "        energy_values = [ float(line.split()[3]) for line in f if line.strip().startswith('Current energy') ]\n",
    "        return energy_values"
   ]
  },
  {
   "cell_type": "markdown",
   "metadata": {},
   "source": [
    "### Plotting how energy changes during optimization\n",
    "\n",
    "Using the function above, we will find the molecule’s energy at each step of the optimization and store them in the list `energy_values`.\n",
    "\n",
    "Then, we will plot how the energy changes at each step of the optimization process. What trend do you expect to see? Why?"
   ]
  },
  {
   "cell_type": "code",
   "execution_count": 10,
   "metadata": {},
   "outputs": [
    {
     "data": {
      "image/png": "[encoded data removed]",
      "text/plain": [
       "<Figure size 432x288 with 1 Axes>"
      ]
     },
     "metadata": {
      "needs_background": "light"
     },
     "output_type": "display_data"
    }
   ],
   "source": [
    "# find the energies from this optimization file\n",
    "energy_values = plot_energy()\n",
    "\n",
    "# determine an appropriate range for plotting\n",
    "energy_range = max(energy_values) - min(energy_values)\n",
    "\n",
    "# plot the energies at each iteration\n",
    "plt.figure()\n",
    "plt.scatter(np.arange(len(energy_values)), energy_values)\n",
    "plt.ylim(top = max(energy_values) + energy_range*0.15,\n",
    "         bottom = min(energy_values) - energy_range*0.15)\n",
    "plt.xlabel(\"iteration\")\n",
    "plt.ylabel(\"energy (Hartrees)\")\n",
    "plt.title(molecule_name + \" energy\")\n",
    "\n",
    "# savefig after show doesn't work, because show will close the plt instance\n",
    "plt.savefig(F'benzene_energy.png')\n",
    "plt.show()"
   ]
  },
  {
   "cell_type": "markdown",
   "metadata": {},
   "source": [
    "## Exercise: Nitrobenzene\n",
    "\n",
    "Using the commands you learned above, perform a geometry optimization for nitrobenzene. You may wish to make a copy of the notebook you have made so far and change the relevant portions. You will need to generate coordinates for nitrobenzene using Avogadro or another molecular drawing program. Plot the distance between the C-N bond as a function of iteration. Plot the energy of the molecule as a function of iteration."
   ]
  },
  {
   "cell_type": "code",
   "execution_count": 58,
   "metadata": {},
   "outputs": [
    {
     "name": "stdout",
     "output_type": "stream",
     "text": [
      "14\n",
      "0 1\n",
      "C      1.915500    0.002049    0.088372\n",
      "C      1.218970   -1.190330    0.074062\n",
      "C     -0.159190   -1.138400    0.009682\n",
      "C     -0.874428    0.025354   -0.040737\n",
      "C     -0.172324    1.210649   -0.026066\n",
      "C      1.209295    1.187050    0.038054\n",
      "N     -2.294889   -0.008933   -0.105777\n",
      "O     -2.977381    1.032849   -0.152845\n",
      "O     -2.951167   -1.212359   -0.118069\n",
      "H      2.996131    0.030618    0.137819\n",
      "H      1.777346   -2.114712    0.113662\n",
      "H     -0.687920   -2.101430   -0.000314\n",
      "H     -0.743587    2.138844   -0.066317\n",
      "H      1.743643    2.138751    0.048474\n",
      "\n"
     ]
    }
   ],
   "source": [
    "from rdkit.Chem import AllChem\n",
    "nitrobenzene = AllChem.MolFromSmiles('c1ccc(cc1)[N+](=O)[O-]')\n",
    "nitrobenzene = AllChem.AddHs(nitrobenzene)\n",
    "nitrobenzene.SetProp('_Name', '0 1')\n",
    "AllChem.EmbedMolecule(nitrobenzene)\n",
    "nitrobenzene_geometry = AllChem.MolToXYZBlock(nitrobenzene)\n",
    "print(nitrobenzene_geometry)"
   ]
  },
  {
   "cell_type": "code",
   "execution_count": 45,
   "metadata": {},
   "outputs": [
    {
     "data": {
      "image/png": "[encoded data removed]",
      "text/plain": [
       "<rdkit.Chem.rdchem.Mol at 0x7fe9b4ca7f30>"
      ]
     },
     "execution_count": 45,
     "metadata": {},
     "output_type": "execute_result"
    }
   ],
   "source": [
    "nitrobenzene"
   ]
  },
  {
   "cell_type": "code",
   "execution_count": 59,
   "metadata": {},
   "outputs": [
    {
     "name": "stdout",
     "output_type": "stream",
     "text": [
      "N\n"
     ]
    }
   ],
   "source": [
    "N = nitrobenzene.GetAtomWithIdx(6)\n",
    "print(N.GetSymbol())"
   ]
  },
  {
   "cell_type": "code",
   "execution_count": 60,
   "metadata": {},
   "outputs": [
    {
     "name": "stdout",
     "output_type": "stream",
     "text": [
      "3 C\n",
      "7 O\n",
      "8 O\n",
      "Discover the index of C atom bonded with N.\n"
     ]
    }
   ],
   "source": [
    "[print(atom.GetIdx(), atom.GetSymbol()) for atom in N.GetNeighbors()]\n",
    "\n",
    "print('Discover the index of C atom bonded with N.')"
   ]
  },
  {
   "cell_type": "code",
   "execution_count": 62,
   "metadata": {},
   "outputs": [
    {
     "name": "stdout",
     "output_type": "stream",
     "text": [
      "Optimizer: Optimization complete!\n"
     ]
    }
   ],
   "source": [
    "molecule_name = 'nitrobenzene'\n",
    "\n",
    "nitrobenzene_psi4_geometry = psi4.geometry(nitrobenzene_geometry)\n",
    "psi4.set_output_file(molecule_name + '_geometry_optimization.dat', False)\n",
    "psi4.optimize('scf/cc-pVDZ', molecule=nitrobenzene_psi4_geometry)\n",
    "\n",
    "psi4.set_output_file(molecule_name + '_geometry_final.dat', False)\n",
    "nitrobenzene_psi4_geometry.print_out_in_angstrom()\n",
    "nitrobenzene_psi4_geometry.print_distances()"
   ]
  },
  {
   "cell_type": "code",
   "execution_count": 63,
   "metadata": {},
   "outputs": [
    {
     "data": {
      "image/png": "[encoded data removed]",
      "text/plain": [
       "<Figure size 432x288 with 1 Axes>"
      ]
     },
     "metadata": {
      "needs_background": "light"
     },
     "output_type": "display_data"
    }
   ],
   "source": [
    "bond_distances = plot_R(4, 7)\n",
    "\n",
    "dist_range = max(bond_distances) - min(bond_distances)\n",
    "\n",
    "plt.scatter(np.arange(len(bond_distances)), bond_distances)\n",
    "plt.ylim(top = max(bond_distances) + dist_range*0.15,\n",
    "         bottom = min(bond_distances) - dist_range*0.15)\n",
    "plt.xlabel(\"iteration\")\n",
    "plt.ylabel(\"distance (Angstrom)\")\n",
    "plt.title(molecule_name + \" C-N bond distance\")\n",
    "plt.show()"
   ]
  },
  {
   "cell_type": "code",
   "execution_count": 64,
   "metadata": {},
   "outputs": [
    {
     "data": {
      "image/png": "[encoded data removed]",
      "text/plain": [
       "<Figure size 432x288 with 1 Axes>"
      ]
     },
     "metadata": {
      "needs_background": "light"
     },
     "output_type": "display_data"
    }
   ],
   "source": [
    "energy_values = plot_energy()\n",
    "\n",
    "energy_range = max(energy_values) - min(energy_values)\n",
    "\n",
    "plt.figure()\n",
    "plt.scatter(np.arange(len(energy_values)), energy_values)\n",
    "plt.ylim(top = max(energy_values) + energy_range*0.15,\n",
    "         bottom = min(energy_values) - energy_range*0.15)\n",
    "plt.xlabel(\"iteration\")\n",
    "plt.ylabel(\"energy (Hartrees)\")\n",
    "plt.title(molecule_name + \" energy\")\n",
    "\n",
    "plt.savefig(F'nitrobenzene_energy.png')\n",
    "plt.show()"
   ]
  },
  {
   "cell_type": "code",
   "execution_count": null,
   "metadata": {},
   "outputs": [],
   "source": []
  }
 ],
 "metadata": {
  "kernelspec": {
   "display_name": "Python 3",
   "language": "python",
   "name": "python3"
  },
  "language_info": {
   "codemirror_mode": {
    "name": "ipython",
    "version": 3
   },
   "file_extension": ".py",
   "mimetype": "text/x-python",
   "name": "python",
   "nbconvert_exporter": "python",
   "pygments_lexer": "ipython3",
   "version": "3.7.6"
  }
 },
 "nbformat": 4,
 "nbformat_minor": 4
}
